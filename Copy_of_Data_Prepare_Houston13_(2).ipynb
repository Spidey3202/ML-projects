{
  "cells": [
    {
      "cell_type": "markdown",
      "metadata": {
        "id": "view-in-github",
        "colab_type": "text"
      },
      "source": [
        "<a href=\"https://colab.research.google.com/github/Spidey3202/ML-projects/blob/main/Copy_of_Data_Prepare_Houston13_(2).ipynb\" target=\"_parent\"><img src=\"https://colab.research.google.com/assets/colab-badge.svg\" alt=\"Open In Colab\"/></a>"
      ]
    },
    {
      "cell_type": "code",
      "execution_count": 7,
      "metadata": {
        "colab": {
          "base_uri": "https://localhost:8080/"
        },
        "id": "SE_l-zCcDzV3",
        "outputId": "00dcb7c1-3541-4e11-9ef7-009b4e81aa09"
      },
      "outputs": [
        {
          "output_type": "stream",
          "name": "stdout",
          "text": [
            "Mounted at /content/gdrive\n"
          ]
        }
      ],
      "source": [
        "from google.colab import drive\n",
        "drive.mount('/content/gdrive')"
      ]
    },
    {
      "cell_type": "code",
      "source": [
        "!git clone https://github.com/Spidey3202/hybrid-attention/tree/Developing"
      ],
      "metadata": {
        "colab": {
          "base_uri": "https://localhost:8080/"
        },
        "id": "BipH0THRel1v",
        "outputId": "53ca7164-95b9-422f-bccd-81a177a33763"
      },
      "execution_count": 43,
      "outputs": [
        {
          "output_type": "stream",
          "name": "stdout",
          "text": [
            "Cloning into 'Developing'...\n",
            "fatal: repository 'https://github.com/Spidey3202/hybrid-attention/tree/Developing/' not found\n"
          ]
        }
      ]
    },
    {
      "cell_type": "code",
      "execution_count": 2,
      "metadata": {
        "id": "j1_xsVSTECbd"
      },
      "outputs": [],
      "source": [
        "import scipy.io as sio\n",
        "import numpy as np\n",
        "import tqdm"
      ]
    },
    {
      "cell_type": "code",
      "execution_count": 3,
      "metadata": {
        "id": "J9lHdC66kyj5"
      },
      "outputs": [],
      "source": [
        "import tensorflow as tf"
      ]
    },
    {
      "cell_type": "code",
      "execution_count": 4,
      "metadata": {
        "id": "HSHlbJKeP_Li"
      },
      "outputs": [],
      "source": [
        "def get_gt_index(y):\n",
        "\n",
        "  import tqdm\n",
        "\n",
        "  shapeY = np.shape(y)\n",
        "\n",
        "  pp,qq = np.unique(y, return_counts=True)\n",
        "  sum1 = np.sum(qq)-qq[0]\n",
        "\n",
        "  index = np.empty([sum1,3], dtype = 'int')\n",
        "\n",
        "  cou = 0\n",
        "  for k in tqdm.tqdm(range(1,np.size(np.unique(y)))):\n",
        "    for i in range(shapeY[0]):\n",
        "      for j in range(shapeY[1]):\n",
        "        if y[i,j] == k:\n",
        "          index[cou,:] = np.expand_dims(np.array([k,i,j]),0)\n",
        "          #print(cou)\n",
        "          cou = cou+1\n",
        "  return index"
      ]
    },
    {
      "cell_type": "code",
      "execution_count": 5,
      "metadata": {
        "id": "zNYMkQMfuGNl"
      },
      "outputs": [],
      "source": [
        "# The code takes the entire hsi/lidar image as input for 'X' and grounttruth file as input for 'y'\n",
        "# and the patchsize as for 'windowSize'.\n",
        "# The output are the patches centered around the groundtruth pixel, the corresponding groundtruth label and the\n",
        "# pixel location of the patch.\n",
        "\n",
        "def make_patches(X, y, windowSize):\n",
        "\n",
        "  shapeX = np.shape(X)\n",
        "\n",
        "  margin = int((windowSize-1)/2)\n",
        "  newX = np.zeros([shapeX[0]+2*margin,shapeX[1]+2*margin,shapeX[2]])\n",
        "  print(newX.shape)\n",
        "  newX[margin:shapeX[0]+margin:,margin:shapeX[1]+margin,:] = X\n",
        "\n",
        "  index = get_gt_index(y)\n",
        "  print(index.shape)\n",
        "  patchesX = np.empty([index.shape[0],2*margin+1,2*margin+1,shapeX[2]], dtype = 'float32')\n",
        "  patchesY = np.empty([index.shape[0]],dtype = 'uint8')\n",
        "\n",
        "  for i in range(index.shape[0]):\n",
        "    p = index[i,1]\n",
        "    q = index[i,2]\n",
        "    patchesX[i,:,:,:] = newX[p:p+windowSize,q:q+windowSize,:]\n",
        "    patchesY[i] = index[i,0]\n",
        "\n",
        "  return patchesX, patchesY, index"
      ]
    },
    {
      "cell_type": "code",
      "execution_count": 8,
      "metadata": {
        "id": "3xjvJzG6EFY2"
      },
      "outputs": [],
      "source": [
        "data = sio.loadmat('/content/gdrive/MyDrive/MTP/H13share.mat')"
      ]
    },
    {
      "cell_type": "code",
      "execution_count": 8,
      "metadata": {
        "id": "u-No52-S-o4M"
      },
      "outputs": [],
      "source": []
    },
    {
      "cell_type": "code",
      "execution_count": 9,
      "metadata": {
        "id": "ypXuOsbgFt7I"
      },
      "outputs": [],
      "source": [
        "import sys\n",
        "import numpy"
      ]
    },
    {
      "cell_type": "code",
      "execution_count": 10,
      "metadata": {
        "id": "W_Uu7_-BuQXz"
      },
      "outputs": [],
      "source": [
        "feats =data['hsi']"
      ]
    },
    {
      "cell_type": "code",
      "execution_count": 11,
      "metadata": {
        "colab": {
          "base_uri": "https://localhost:8080/"
        },
        "id": "mvjuE_RQ-vSE",
        "outputId": "a9ad74a9-ea73-4ee4-f73c-641790b7dde9"
      },
      "outputs": [
        {
          "output_type": "execute_result",
          "data": {
            "text/plain": [
              "(349, 1905, 144)"
            ]
          },
          "metadata": {},
          "execution_count": 11
        }
      ],
      "source": [
        "feats.shape"
      ]
    },
    {
      "cell_type": "code",
      "execution_count": 12,
      "metadata": {
        "colab": {
          "base_uri": "https://localhost:8080/"
        },
        "id": "mM4DsOU1y14Q",
        "outputId": "ae4d114c-bfdb-4cb4-de41-0463c6da2786"
      },
      "outputs": [
        {
          "output_type": "stream",
          "name": "stderr",
          "text": [
            "100%|██████████| 144/144 [00:03<00:00, 42.29it/s]\n"
          ]
        }
      ],
      "source": [
        "feats_norm = np.empty([349,1905,144], dtype = 'float32')\n",
        "for i in tqdm.tqdm(range(144)):\n",
        "  feats_norm[:,:,i] = feats[:,:,i]-np.min(feats[:,:,i])\n",
        "  feats_norm[:,:,i] = feats_norm[:,:,i]/np.max(feats_norm[:,:,i])"
      ]
    },
    {
      "cell_type": "code",
      "execution_count": 13,
      "metadata": {
        "colab": {
          "base_uri": "https://localhost:8080/",
          "height": 174
        },
        "id": "NdZktdyf-Z6n",
        "outputId": "d58e8422-72fa-4eb1-eece-641b0edef226"
      },
      "outputs": [
        {
          "output_type": "execute_result",
          "data": {
            "text/plain": [
              "<matplotlib.image.AxesImage at 0x7f0921bc1bd0>"
            ]
          },
          "metadata": {},
          "execution_count": 13
        },
        {
          "output_type": "display_data",
          "data": {
            "text/plain": [
              "<Figure size 640x480 with 1 Axes>"
            ],
            "image/png": "[encoded data removed]"
          },
          "metadata": {}
        }
      ],
      "source": [
        "import matplotlib.pyplot as plt\n",
        "plt.imshow(np.concatenate([np.expand_dims(feats_norm[:,:,105], axis = 2),\n",
        "                           np.expand_dims(feats_norm[:,:,95], axis = 2),\n",
        "                           np.expand_dims(feats_norm[:,:,85], axis = 2)], axis = 2))"
      ]
    },
    {
      "cell_type": "code",
      "execution_count": 14,
      "metadata": {
        "id": "tOjpW8vYD9JH"
      },
      "outputs": [],
      "source": [
        "np.save('feats_norm', feats_norm)"
      ]
    },
    {
      "cell_type": "code",
      "execution_count": 15,
      "metadata": {
        "id": "WI5119DQ5iZa"
      },
      "outputs": [],
      "source": [
        "train = data['train']\n",
        "test = data['test']"
      ]
    },
    {
      "cell_type": "code",
      "execution_count": 16,
      "metadata": {
        "colab": {
          "base_uri": "https://localhost:8080/"
        },
        "id": "ElIT6rvm5kYV",
        "outputId": "e378f229-d4f3-4722-c274-7317bb7c1493"
      },
      "outputs": [
        {
          "output_type": "stream",
          "name": "stdout",
          "text": [
            "(359, 1915, 144)\n"
          ]
        },
        {
          "output_type": "stream",
          "name": "stderr",
          "text": [
            "100%|██████████| 15/15 [00:25<00:00,  1.69s/it]\n"
          ]
        },
        {
          "output_type": "stream",
          "name": "stdout",
          "text": [
            "(2832, 3)\n",
            "(359, 1915, 144)\n"
          ]
        },
        {
          "output_type": "stream",
          "name": "stderr",
          "text": [
            "100%|██████████| 15/15 [00:15<00:00,  1.06s/it]\n"
          ]
        },
        {
          "output_type": "stream",
          "name": "stdout",
          "text": [
            "(12197, 3)\n"
          ]
        }
      ],
      "source": [
        "# Create train patches\n",
        "\n",
        "train_patches, train_labels, index_train = make_patches(feats_norm, train, 11)\n",
        "\n",
        "np.save('train_patches', train_patches)\n",
        "np.save('train_labels',train_labels)\n",
        "\n",
        "# Create test patches\n",
        "\n",
        "test_patches, test_labels, index_test = make_patches(feats_norm, test, 11)\n",
        "\n",
        "np.save('test_patches', test_patches)\n",
        "np.save('test_labels',test_labels)"
      ]
    },
    {
      "cell_type": "code",
      "execution_count": 17,
      "metadata": {
        "colab": {
          "base_uri": "https://localhost:8080/"
        },
        "id": "uLcl3wJNOPet",
        "outputId": "533e5f61-9dea-4253-dd67-4f49e9f32ba3"
      },
      "outputs": [
        {
          "output_type": "execute_result",
          "data": {
            "text/plain": [
              "(2832, 11, 11, 144)"
            ]
          },
          "metadata": {},
          "execution_count": 17
        }
      ],
      "source": [
        "train_patches.shape"
      ]
    },
    {
      "cell_type": "code",
      "execution_count": 18,
      "metadata": {
        "id": "X3NMKekXT081"
      },
      "outputs": [],
      "source": [
        "def my_ohc(lab_arr):\n",
        "    lab_arr_unique =  np.unique(lab_arr)\n",
        "    r,c = lab_arr.shape\n",
        "    r_u  = lab_arr_unique.shape\n",
        "\n",
        "\n",
        "    one_hot_enc = np.zeros((r,r_u[0]), dtype = 'float')\n",
        "\n",
        "    for i in range(r):\n",
        "        for j in range(r_u[0]):\n",
        "            if lab_arr[i,0] == lab_arr_unique[j]:\n",
        "                one_hot_enc[i,j] = 1\n",
        "\n",
        "    return one_hot_enc\n",
        "\n",
        "def accuracies(cm):\n",
        "  import numpy as np\n",
        "  num_class = np.shape(cm)[0]\n",
        "  n = np.sum(cm)\n",
        "\n",
        "  P = cm/n\n",
        "  ovr_acc = np.trace(P)\n",
        "\n",
        "  p_plus_j = np.sum(P, axis = 0)\n",
        "  p_i_plus = np.sum(P, axis = 1)\n",
        "\n",
        "  usr_acc = np.diagonal(P)/p_i_plus\n",
        "  prod_acc = np.diagonal(P)/p_plus_j\n",
        "\n",
        "  theta1 = np.trace(P)\n",
        "  theta2 = np.sum(p_plus_j*p_i_plus)\n",
        "  theta3 = np.sum(np.diagonal(P)*(p_plus_j + p_i_plus))\n",
        "  theta4 = 0\n",
        "  for i in range(num_class):\n",
        "    for j in range(num_class):\n",
        "      theta4 = theta4+P[i,j]*(p_plus_j[i]+p_i_plus[j])**2\n",
        "\n",
        "  kappa = (theta1-theta2)/(1-theta2)\n",
        "\n",
        "  t1 = theta1*(1-theta1)/(1-theta2)**2\n",
        "  t2 = 2*(1-theta1)*(2*theta1*theta2-theta3)/(1-theta2)**3\n",
        "  t3 = ((1-theta1)**2)*(theta4 - 4*theta2**2)/(1-theta2)**4\n",
        "\n",
        "  s_sqr = (t1+t2+t3)/n\n",
        "\n",
        "  return ovr_acc, usr_acc, prod_acc, kappa, s_sqr"
      ]
    },
    {
      "cell_type": "code",
      "execution_count": 30,
      "metadata": {
        "id": "z3f4-6ddT4pY"
      },
      "outputs": [],
      "source": [
        "# Import Relevant libraries and classes\n",
        "import scipy.io as sio\n",
        "import numpy as np\n",
        "import tqdm\n",
        "from sklearn.decomposition import PCA\n",
        "import tensorflow as tf\n",
        "keras = tf.keras\n",
        "from keras import backend as K\n",
        "from keras import regularizers\n",
        "from keras.models import Model, Sequential\n",
        "from keras.layers import Dense, Input, Dropout\n",
        "from keras.layers import Conv2D, Flatten, Lambda, Conv3D, Conv3DTranspose,BatchNormalization,Conv1D, Activation\n",
        "from keras.layers import Reshape, Conv2DTranspose, Concatenate, Multiply, Add, MaxPooling2D, MaxPooling3D, GlobalAveragePooling2D, GlobalMaxPooling2D\n",
        "from keras.layers import Input, Concatenate, Conv2D, BatchNormalization, Activation, Multiply, Lambda, multiply\n",
        "from keras import Model\n",
        "from keras.datasets import mnist\n",
        "from keras.losses import MeanSquaredError, binary_crossentropy\n",
        "from keras import backend as K\n",
        "#from keras.utils import plot_model\n",
        "from keras import backend as K\n",
        "from sklearn.metrics import confusion_matrix"
      ]
    },
    {
      "cell_type": "code",
      "execution_count": 21,
      "metadata": {
        "id": "eY-CHrSFT8D3"
      },
      "outputs": [],
      "source": [
        "train_patches = np.load('train_patches.npy')\n",
        "test_patches = np.load('test_patches.npy')\n",
        "\n",
        "train_labels = np.load('train_labels.npy')-1\n",
        "test_labels = np.load('test_labels.npy')-1\n",
        "\n",
        "tr90 = np.empty([2832,11,11,144], dtype = 'float32')\n",
        "tr180 = np.empty([2832,11,11,144], dtype = 'float32')"
      ]
    },
    {
      "cell_type": "code",
      "execution_count": 22,
      "metadata": {
        "colab": {
          "base_uri": "https://localhost:8080/"
        },
        "id": "8nMEeibeT_G-",
        "outputId": "895f0639-052b-49cb-ffb5-bb45f554e55a"
      },
      "outputs": [
        {
          "output_type": "stream",
          "name": "stderr",
          "text": [
            "100%|██████████| 2832/2832 [00:00<00:00, 16578.39it/s]\n"
          ]
        }
      ],
      "source": [
        "for i in tqdm.tqdm(range(2832)):\n",
        "  tr90[i,:,:,:] = np.rot90(train_patches[i,:,:,:])\n",
        "  tr180[i,:,:,:] = np.rot90(tr90[i,:,:,:])"
      ]
    },
    {
      "cell_type": "code",
      "execution_count": 23,
      "metadata": {
        "colab": {
          "base_uri": "https://localhost:8080/"
        },
        "id": "UCCiqcRUUBiM",
        "outputId": "9d7132e8-9eef-45c3-f59b-e3da113517f4"
      },
      "outputs": [
        {
          "output_type": "stream",
          "name": "stdout",
          "text": [
            "(5664, 11, 11, 144)\n",
            "(12197, 11, 11, 144)\n"
          ]
        }
      ],
      "source": [
        "train_patches = np.concatenate([train_patches, tr180], axis = 0)\n",
        "train_labels = np.concatenate([train_labels,train_labels], axis = 0)\n",
        "\n",
        "from sklearn.utils import shuffle\n",
        "train_patches, train_labels = shuffle(train_patches, train_labels, random_state=0)\n",
        "\n",
        "print(np.shape(train_patches))\n",
        "print(np.shape(test_patches))"
      ]
    },
    {
      "cell_type": "code",
      "execution_count": 24,
      "metadata": {
        "colab": {
          "base_uri": "https://localhost:8080/"
        },
        "id": "n0x3hSPCo6cs",
        "outputId": "3a2c52dc-9a29-495e-b0f5-4dd0565e902d"
      },
      "outputs": [
        {
          "output_type": "execute_result",
          "data": {
            "text/plain": [
              "array([12,  9,  8, 13,  8, 13, 12,  7, 13, 13], dtype=uint8)"
            ]
          },
          "metadata": {},
          "execution_count": 24
        }
      ],
      "source": [
        "train_labels[:10]"
      ]
    },
    {
      "cell_type": "code",
      "execution_count": 39,
      "metadata": {
        "id": "bAXIwgSzUCxI"
      },
      "outputs": [],
      "source": [
        "def ham_block(input_feature, name):\n",
        "    attention_feature, channel = channel_attention(input_feature, 'ch_at', gamma=2, b=1)\n",
        "    attention_feature = spatial_attention(attention_feature, channel, 'sp_at')\n",
        "    return attention_feature\n",
        "\n",
        "# channel attention submodule\n",
        "def channel_attention(input_feature, name, gamma=2, b=1):\n",
        "    with tf.name_scope(name):\n",
        "        alpha = tf.Variable([0.5], dtype='float32', name='alpha')\n",
        "        beta = tf.Variable([0.5], dtype='float32', name='beta')\n",
        "        avg_pool = GlobalAveragePooling2D()(input_feature)\n",
        "        max_pool = GlobalMaxPooling2D()(input_feature)\n",
        "        N, H, W, C = input_feature.shape\n",
        "        C = int(C)\n",
        "        assert avg_pool.shape.as_list() == [None, C]\n",
        "        assert max_pool.shape.as_list() == [None, C]\n",
        "\n",
        "        # Adaptive Mechanism Block\n",
        "        add = (avg_pool + max_pool) / 2 + alpha * avg_pool + beta * max_pool\n",
        "        assert add.shape.as_list() == [None, C]\n",
        "\n",
        "        # fast one-dimensional convolutional layer\n",
        "        t = int(abs(np.log2(C) + b) / gamma)\n",
        "        k = t if t % 2 else t + 1\n",
        "        add = Reshape((1, 1, C))(add)\n",
        "        add_conv1d = Conv1D(C, kernel_size=k, strides=1, padding='same', use_bias=False)(add)\n",
        "        add_conv1d = Reshape((1, 1, C))(add_conv1d)\n",
        "        assert add_conv1d.shape.as_list() == [None, 1, 1, C]\n",
        "        channel = Lambda(lambda x: K.sigmoid(x))(add_conv1d)\n",
        "\n",
        "        output_feature = multiply([input_feature, channel])\n",
        "    return output_feature, channel\n",
        "\n",
        "\n",
        "# spatial attention submodule\n",
        "def spatial_attention(input_feature, channel, name):\n",
        "    kernel_size = 7\n",
        "    keep_rate = 0.6\n",
        "    C = channel.get_shape()[-1]\n",
        "    C = int(C)\n",
        "    h = int(C * keep_rate)\n",
        "    if h % 2 == 1:\n",
        "        k = h + 1\n",
        "    else:\n",
        "        k = h\n",
        "    t = C - k\n",
        "\n",
        "    # channel separation technique\n",
        "    channel_top, channel_top_index = tf.nn.top_k(channel, k)\n",
        "    kth = tf.reduce_min(channel_top, axis=3, keepdims=True)\n",
        "    topk = tf.greater_equal(channel, kth)\n",
        "    lessk = tf.less(channel, kth)\n",
        "    im_mask = tf.cast(topk, dtype=tf.float32)\n",
        "    sub_mask = tf.cast(lessk, dtype=tf.float32)\n",
        "    input_feature_immask = Multiply()([input_feature, im_mask])\n",
        "    input_feature_submask = Multiply()([input_feature, sub_mask])\n",
        "\n",
        "    # important group\n",
        "    avg_pool_im = Lambda(lambda x: tf.reduce_sum(x, axis=[3], keepdims=True))(input_feature_immask)\n",
        "    avg_pool_im = Lambda(lambda x: tf.divide(x, k))(avg_pool_im)\n",
        "    assert avg_pool_im.shape[-1] == 1\n",
        "    max_pool_im = Lambda(lambda x: tf.reduce_max(x, axis=[3], keepdims=True))(input_feature_immask)\n",
        "    assert max_pool_im.shape[-1] == 1\n",
        "    concat_im = Concatenate(axis=3)([avg_pool_im, max_pool_im])\n",
        "    assert concat_im.shape[-1] == 2\n",
        "    concat_im = Conv2D(filters=1,\n",
        "                       kernel_size=(kernel_size, kernel_size),\n",
        "                       strides=(1, 1),\n",
        "                       padding='same',\n",
        "                       activation=None,\n",
        "                       kernel_initializer='he_normal',\n",
        "                       use_bias=False)(concat_im)\n",
        "    assert concat_im.shape[-1] == 1\n",
        "    concat_im = BatchNormalization()(concat_im)\n",
        "    concat_im = Activation('relu')(concat_im)\n",
        "    concat_im = Activation('sigmoid')(concat_im)\n",
        "    spatial_im = Multiply()([input_feature_immask, concat_im])\n",
        "\n",
        "    # sub-important group\n",
        "    avg_pool_sub = Lambda(lambda x: tf.reduce_sum(x, axis=[3], keepdims=True))(input_feature_submask)\n",
        "    avg_pool_sub = Lambda(lambda x: tf.divide(x, t))(avg_pool_sub)\n",
        "    assert avg_pool_sub.shape[-1] == 1\n",
        "    max_pool_sub = Lambda(lambda x: tf.reduce_max(x, axis=[3], keepdims=True))(input_feature_submask)\n",
        "    assert max_pool_sub.shape[-1] == 1\n",
        "    concat_sub = Concatenate(axis=3)([avg_pool_sub, max_pool_sub])\n",
        "    assert concat_sub.shape[-1] == 2\n",
        "    concat_sub = Conv2D(filters=1,\n",
        "                        kernel_size=(kernel_size, kernel_size),\n",
        "                        strides=(1, 1),\n",
        "                        padding='same',\n",
        "                        activation=None,\n",
        "                        use_bias=False)(concat_sub)\n",
        "    assert concat_sub.shape[-1] == 1\n",
        "    concat_sub = BatchNormalization()(concat_sub)\n",
        "    concat_sub = Activation('relu')(concat_sub)\n",
        "    concat_sub = Activation('sigmoid')(concat_sub)\n",
        "    spatial_sub = Multiply()([input_feature_submask, concat_sub])\n",
        "\n",
        "    final_spatial = spatial_im + spatial_sub\n",
        "\n",
        "    return final_spatial"
      ]
    },
    {
      "cell_type": "code",
      "execution_count": 40,
      "metadata": {
        "colab": {
          "base_uri": "https://localhost:8080/",
          "height": 370
        },
        "id": "K0JkqoiAUHHl",
        "outputId": "a0b061c4-1c9b-4462-b7a1-9f2e558a8459"
      },
      "outputs": [
        {
          "output_type": "error",
          "ename": "AttributeError",
          "evalue": "'tuple' object has no attribute 'as_list'",
          "traceback": [
            "\u001b[0;31m---------------------------------------------------------------------------\u001b[0m",
            "\u001b[0;31mAttributeError\u001b[0m                            Traceback (most recent call last)",
            "\u001b[0;32m<ipython-input-40-12446bbcd85a>\u001b[0m in \u001b[0;36m<cell line: 66>\u001b[0;34m()\u001b[0m\n\u001b[1;32m     64\u001b[0m \u001b[0mx\u001b[0m \u001b[0;34m=\u001b[0m \u001b[0mInput\u001b[0m\u001b[0;34m(\u001b[0m\u001b[0mshape\u001b[0m\u001b[0;34m=\u001b[0m\u001b[0;34m(\u001b[0m\u001b[0;36m11\u001b[0m\u001b[0;34m,\u001b[0m\u001b[0;36m11\u001b[0m\u001b[0;34m,\u001b[0m\u001b[0;36m144\u001b[0m\u001b[0;34m)\u001b[0m\u001b[0;34m,\u001b[0m \u001b[0mname\u001b[0m\u001b[0;34m=\u001b[0m\u001b[0;34m'inputA'\u001b[0m\u001b[0;34m)\u001b[0m\u001b[0;34m\u001b[0m\u001b[0;34m\u001b[0m\u001b[0m\n\u001b[1;32m     65\u001b[0m \u001b[0;34m\u001b[0m\u001b[0m\n\u001b[0;32m---> 66\u001b[0;31m \u001b[0moutfinal\u001b[0m \u001b[0;34m=\u001b[0m \u001b[0mext\u001b[0m\u001b[0;34m(\u001b[0m\u001b[0mx\u001b[0m\u001b[0;34m)\u001b[0m\u001b[0;34m\u001b[0m\u001b[0;34m\u001b[0m\u001b[0m\n\u001b[0m\u001b[1;32m     67\u001b[0m \u001b[0;34m\u001b[0m\u001b[0m\n\u001b[1;32m     68\u001b[0m \u001b[0moptim\u001b[0m \u001b[0;34m=\u001b[0m \u001b[0mkeras\u001b[0m\u001b[0;34m.\u001b[0m\u001b[0moptimizers\u001b[0m\u001b[0;34m.\u001b[0m\u001b[0mNadam\u001b[0m\u001b[0;34m(\u001b[0m\u001b[0;36m0.0002\u001b[0m\u001b[0;34m)\u001b[0m\u001b[0;34m\u001b[0m\u001b[0;34m\u001b[0m\u001b[0m\n",
            "\u001b[0;32m<ipython-input-40-12446bbcd85a>\u001b[0m in \u001b[0;36mext\u001b[0;34m(x)\u001b[0m\n\u001b[1;32m     54\u001b[0m \u001b[0;32mdef\u001b[0m \u001b[0mext\u001b[0m\u001b[0;34m(\u001b[0m\u001b[0mx\u001b[0m\u001b[0;34m)\u001b[0m\u001b[0;34m:\u001b[0m\u001b[0;34m\u001b[0m\u001b[0;34m\u001b[0m\u001b[0m\n\u001b[1;32m     55\u001b[0m \u001b[0;34m\u001b[0m\u001b[0m\n\u001b[0;32m---> 56\u001b[0;31m   \u001b[0mconc1\u001b[0m\u001b[0;34m,\u001b[0m \u001b[0mgap1\u001b[0m \u001b[0;34m=\u001b[0m \u001b[0mblock\u001b[0m\u001b[0;34m(\u001b[0m\u001b[0mx\u001b[0m\u001b[0;34m,\u001b[0m\u001b[0;36m3\u001b[0m\u001b[0;34m)\u001b[0m\u001b[0;34m\u001b[0m\u001b[0;34m\u001b[0m\u001b[0m\n\u001b[0m\u001b[1;32m     57\u001b[0m   \u001b[0mconc2\u001b[0m\u001b[0;34m,\u001b[0m \u001b[0mgap2\u001b[0m \u001b[0;34m=\u001b[0m \u001b[0mblock\u001b[0m\u001b[0;34m(\u001b[0m\u001b[0mx\u001b[0m\u001b[0;34m,\u001b[0m\u001b[0;36m5\u001b[0m\u001b[0;34m)\u001b[0m\u001b[0;34m\u001b[0m\u001b[0;34m\u001b[0m\u001b[0m\n\u001b[1;32m     58\u001b[0m   \u001b[0mconc3\u001b[0m\u001b[0;34m,\u001b[0m \u001b[0mgap3\u001b[0m \u001b[0;34m=\u001b[0m \u001b[0mblock\u001b[0m\u001b[0;34m(\u001b[0m\u001b[0mx\u001b[0m\u001b[0;34m,\u001b[0m\u001b[0;36m7\u001b[0m\u001b[0;34m)\u001b[0m\u001b[0;34m\u001b[0m\u001b[0;34m\u001b[0m\u001b[0m\n",
            "\u001b[0;32m<ipython-input-40-12446bbcd85a>\u001b[0m in \u001b[0;36mblock\u001b[0;34m(x, k)\u001b[0m\n\u001b[1;32m     46\u001b[0m \u001b[0;34m\u001b[0m\u001b[0m\n\u001b[1;32m     47\u001b[0m   \u001b[0mconc1\u001b[0m \u001b[0;34m=\u001b[0m \u001b[0mConcatenate\u001b[0m\u001b[0;34m(\u001b[0m\u001b[0maxis\u001b[0m \u001b[0;34m=\u001b[0m \u001b[0;36m3\u001b[0m\u001b[0;34m)\u001b[0m\u001b[0;34m(\u001b[0m\u001b[0;34m[\u001b[0m\u001b[0mcv1\u001b[0m\u001b[0;34m,\u001b[0m\u001b[0mcv2\u001b[0m\u001b[0;34m,\u001b[0m\u001b[0mcv3\u001b[0m\u001b[0;34m,\u001b[0m \u001b[0mcv4\u001b[0m\u001b[0;34m]\u001b[0m\u001b[0;34m)\u001b[0m\u001b[0;34m\u001b[0m\u001b[0;34m\u001b[0m\u001b[0m\n\u001b[0;32m---> 48\u001b[0;31m   \u001b[0mconc1\u001b[0m \u001b[0;34m=\u001b[0m \u001b[0mham_block\u001b[0m\u001b[0;34m(\u001b[0m\u001b[0mconc1\u001b[0m\u001b[0;34m,\u001b[0m \u001b[0;34m'ham_block'\u001b[0m\u001b[0;34m)\u001b[0m\u001b[0;34m\u001b[0m\u001b[0;34m\u001b[0m\u001b[0m\n\u001b[0m\u001b[1;32m     49\u001b[0m \u001b[0;34m\u001b[0m\u001b[0m\n\u001b[1;32m     50\u001b[0m   \u001b[0mgap1\u001b[0m \u001b[0;34m=\u001b[0m \u001b[0mGlobalAveragePooling2D\u001b[0m\u001b[0;34m(\u001b[0m\u001b[0;34m)\u001b[0m\u001b[0;34m(\u001b[0m\u001b[0mconc1\u001b[0m\u001b[0;34m)\u001b[0m\u001b[0;34m\u001b[0m\u001b[0;34m\u001b[0m\u001b[0m\n",
            "\u001b[0;32m<ipython-input-39-a7ab56d15ec8>\u001b[0m in \u001b[0;36mham_block\u001b[0;34m(input_feature, name)\u001b[0m\n\u001b[1;32m      1\u001b[0m \u001b[0;32mdef\u001b[0m \u001b[0mham_block\u001b[0m\u001b[0;34m(\u001b[0m\u001b[0minput_feature\u001b[0m\u001b[0;34m,\u001b[0m \u001b[0mname\u001b[0m\u001b[0;34m)\u001b[0m\u001b[0;34m:\u001b[0m\u001b[0;34m\u001b[0m\u001b[0;34m\u001b[0m\u001b[0m\n\u001b[0;32m----> 2\u001b[0;31m     \u001b[0mattention_feature\u001b[0m\u001b[0;34m,\u001b[0m \u001b[0mchannel\u001b[0m \u001b[0;34m=\u001b[0m \u001b[0mchannel_attention\u001b[0m\u001b[0;34m(\u001b[0m\u001b[0minput_feature\u001b[0m\u001b[0;34m,\u001b[0m \u001b[0;34m'ch_at'\u001b[0m\u001b[0;34m,\u001b[0m \u001b[0mgamma\u001b[0m\u001b[0;34m=\u001b[0m\u001b[0;36m2\u001b[0m\u001b[0;34m,\u001b[0m \u001b[0mb\u001b[0m\u001b[0;34m=\u001b[0m\u001b[0;36m1\u001b[0m\u001b[0;34m)\u001b[0m\u001b[0;34m\u001b[0m\u001b[0;34m\u001b[0m\u001b[0m\n\u001b[0m\u001b[1;32m      3\u001b[0m     \u001b[0mattention_feature\u001b[0m \u001b[0;34m=\u001b[0m \u001b[0mspatial_attention\u001b[0m\u001b[0;34m(\u001b[0m\u001b[0mattention_feature\u001b[0m\u001b[0;34m,\u001b[0m \u001b[0mchannel\u001b[0m\u001b[0;34m,\u001b[0m \u001b[0;34m'sp_at'\u001b[0m\u001b[0;34m)\u001b[0m\u001b[0;34m\u001b[0m\u001b[0;34m\u001b[0m\u001b[0m\n\u001b[1;32m      4\u001b[0m     \u001b[0;32mreturn\u001b[0m \u001b[0mattention_feature\u001b[0m\u001b[0;34m\u001b[0m\u001b[0;34m\u001b[0m\u001b[0m\n\u001b[1;32m      5\u001b[0m \u001b[0;34m\u001b[0m\u001b[0m\n",
            "\u001b[0;32m<ipython-input-39-a7ab56d15ec8>\u001b[0m in \u001b[0;36mchannel_attention\u001b[0;34m(input_feature, name, gamma, b)\u001b[0m\n\u001b[1;32m     13\u001b[0m         \u001b[0mN\u001b[0m\u001b[0;34m,\u001b[0m \u001b[0mH\u001b[0m\u001b[0;34m,\u001b[0m \u001b[0mW\u001b[0m\u001b[0;34m,\u001b[0m \u001b[0mC\u001b[0m \u001b[0;34m=\u001b[0m \u001b[0minput_feature\u001b[0m\u001b[0;34m.\u001b[0m\u001b[0mshape\u001b[0m\u001b[0;34m\u001b[0m\u001b[0;34m\u001b[0m\u001b[0m\n\u001b[1;32m     14\u001b[0m         \u001b[0mC\u001b[0m \u001b[0;34m=\u001b[0m \u001b[0mint\u001b[0m\u001b[0;34m(\u001b[0m\u001b[0mC\u001b[0m\u001b[0;34m)\u001b[0m\u001b[0;34m\u001b[0m\u001b[0;34m\u001b[0m\u001b[0m\n\u001b[0;32m---> 15\u001b[0;31m         \u001b[0;32massert\u001b[0m \u001b[0mavg_pool\u001b[0m\u001b[0;34m.\u001b[0m\u001b[0mshape\u001b[0m\u001b[0;34m.\u001b[0m\u001b[0mas_list\u001b[0m\u001b[0;34m(\u001b[0m\u001b[0;34m)\u001b[0m \u001b[0;34m==\u001b[0m \u001b[0;34m[\u001b[0m\u001b[0;32mNone\u001b[0m\u001b[0;34m,\u001b[0m \u001b[0mC\u001b[0m\u001b[0;34m]\u001b[0m\u001b[0;34m\u001b[0m\u001b[0;34m\u001b[0m\u001b[0m\n\u001b[0m\u001b[1;32m     16\u001b[0m         \u001b[0;32massert\u001b[0m \u001b[0mmax_pool\u001b[0m\u001b[0;34m.\u001b[0m\u001b[0mshape\u001b[0m\u001b[0;34m.\u001b[0m\u001b[0mas_list\u001b[0m\u001b[0;34m(\u001b[0m\u001b[0;34m)\u001b[0m \u001b[0;34m==\u001b[0m \u001b[0;34m[\u001b[0m\u001b[0;32mNone\u001b[0m\u001b[0;34m,\u001b[0m \u001b[0mC\u001b[0m\u001b[0;34m]\u001b[0m\u001b[0;34m\u001b[0m\u001b[0;34m\u001b[0m\u001b[0m\n\u001b[1;32m     17\u001b[0m \u001b[0;34m\u001b[0m\u001b[0m\n",
            "\u001b[0;31mAttributeError\u001b[0m: 'tuple' object has no attribute 'as_list'"
          ]
        }
      ],
      "source": [
        "def my_conv(x,l):\n",
        "\n",
        "  c1 = l(x)\n",
        "  c1 = BatchNormalization()(c1)\n",
        "\n",
        "  return c1\n",
        "\n",
        "def block(x,k):\n",
        "\n",
        "  fil = 32\n",
        "  #k = 3\n",
        "\n",
        "  x2 = Conv2D(filters=fil, kernel_size=1,  padding = 'valid',\n",
        "                       activation = 'relu')(x)\n",
        "\n",
        "  l1 = Conv2D(filters=fil, kernel_size=k,  padding = 'same',\n",
        "                       activation = 'relu')\n",
        "  l2 = Conv2D(filters=fil, kernel_size=k,  padding = 'same',\n",
        "                       activation = 'relu')\n",
        "  l3 = Conv2D(filters=fil, kernel_size=k,  padding = 'same',\n",
        "                       activation = 'relu')\n",
        "  l4 = Conv2D(filters=fil, kernel_size=k,  padding = 'same',\n",
        "                       activation = 'relu')\n",
        "\n",
        "\n",
        "  # Stage 1\n",
        "\n",
        "  cv1 = my_conv(x2, l1)\n",
        "  c1 = Add()([x2,cv1])\n",
        "  cv2 = my_conv(c1, l2)\n",
        "  c2 = Add()([x2,cv1,cv2])\n",
        "  cv3 = my_conv(c2, l3)\n",
        "  c3 = Add()([x2,cv1,cv2,cv3])\n",
        "  cv4 = my_conv(c3, l4)\n",
        "\n",
        "  # Stage 2\n",
        "\n",
        "  c4 = Add()([cv2,cv3,cv4])\n",
        "  cv1 = my_conv(c4, l1)\n",
        "  c5 = Add()([cv1,cv3,cv4])\n",
        "  cv2 = my_conv(c5, l2)\n",
        "  c6 = Add()([cv1,cv2,cv4])\n",
        "  cv3 = my_conv(c6, l3)\n",
        "  c7 = Add()([cv1,cv2,cv3])\n",
        "  cv4 = my_conv(c7, l4)\n",
        "\n",
        "  conc1 = Concatenate(axis = 3)([cv1,cv2,cv3, cv4])\n",
        "  conc1 = ham_block(conc1, 'ham_block')\n",
        "\n",
        "  gap1 = GlobalAveragePooling2D()(conc1)\n",
        "\n",
        "  return conc1, gap1\n",
        "\n",
        "def ext(x):\n",
        "\n",
        "  conc1, gap1 = block(x,3)\n",
        "  conc2, gap2 = block(x,5)\n",
        "  conc3, gap3 = block(x,7)\n",
        "\n",
        "  gp = Concatenate(axis = 1)([gap1, gap2, gap3])\n",
        "  c6 =  Dense(15, activation = 'softmax')(gp)\n",
        "  return Reshape([15])(c6)\n",
        "\n",
        "x = Input(shape=(11,11,144), name='inputA')\n",
        "\n",
        "outfinal = ext(x)\n",
        "\n",
        "optim = keras.optimizers.Nadam(0.0002)\n",
        "\n",
        "model = Model(x, outfinal, name = 'model')\n",
        "\n",
        "# Compiling the model\n",
        "model.compile(loss='categorical_crossentropy', optimizer=optim, metrics=['accuracy'])\n",
        "\n",
        "model.summary()\n",
        "\n",
        "keras.utils.plot_model(model)"
      ]
    },
    {
      "cell_type": "code",
      "execution_count": null,
      "metadata": {
        "id": "vYAGPcodULej"
      },
      "outputs": [],
      "source": [
        "import sys\n",
        "import numpy as np\n",
        "\n",
        "train_accuracy_list = []\n",
        "val_accuracy_list = []\n",
        "\n",
        "\n",
        "for p in range(1):\n",
        "\n",
        "  x = Input(shape=(11,11,144), name='inputA')\n",
        "\n",
        "  outfinal = ext(x)\n",
        "\n",
        "  optim = keras.optimizers.Nadam(0.0002)\n",
        "\n",
        "  model = Model(x, outfinal, name = 'model')\n",
        "  print(x.shape)\n",
        "\n",
        "  # Compiling the model\n",
        "  model.compile(loss='categorical_crossentropy', optimizer=optim, metrics=['accuracy'])\n",
        "  ep = 0\n",
        "  k=0\n",
        "  import gc\n",
        "  for epoch in (range(100)):\n",
        "    gc.collect()\n",
        "    h = model.fit(x = train_patches[:,:,:,0:144],\n",
        "                    y = my_ohc(np.expand_dims(train_labels, axis = 1)),\n",
        "                    epochs=1, batch_size = 64, verbose = 1)\n",
        "    # print(len(h.history['accuracy']))\n",
        "    train_accuracy_list.append(h.history['accuracy'])\n",
        "    preds2 = model.predict(test_patches[:,:,:,0:144], batch_size = 64, verbose = 2)\n",
        "\n",
        "    conf = confusion_matrix(test_labels, np.argmax(preds2,1))\n",
        "    ovr_acc, _, _, _, _ = accuracies(conf)\n",
        "    val_accuracy_list.append(ovr_acc)\n",
        "\n",
        "    print(\"-\"*40,\" EPOCH : \", epoch,\"-\"*40)\n",
        "    print(\"-\"*20, \" Train accuracy : \", np.round(100*np.array(h.history['accuracy']),2))\n",
        "    print(\"-\"*20, \" Test Accuracy : \", np.round(100*ovr_acc,2))\n",
        "\n",
        "\n",
        "    if ovr_acc>=k:\n",
        "      model.save('cn_share_ms_ab16/model'+str(p))\n",
        "      k = ovr_acc\n",
        "      ep = epoch\n",
        "      np.save('cn_share_ms_ab16/ep',epoch)\n",
        "    print('acc_max = ', np.round(100*k,2), '% at epoch', ep)\n",
        "\n",
        "    if epoch%5==0:\n",
        "      model.save('cn_share_ms_ab16/model_temp')\n",
        "      np.save('cn_share_ms_ab16/ep_temp',epoch)"
      ]
    },
    {
      "cell_type": "code",
      "execution_count": null,
      "metadata": {
        "id": "YLjVenTNocd-"
      },
      "outputs": [],
      "source": [
        "test_patches"
      ]
    },
    {
      "cell_type": "code",
      "execution_count": null,
      "metadata": {
        "id": "YJVCYI2x8mLa"
      },
      "outputs": [],
      "source": [
        "p = test_patches[0:11, 0:11, 0:144]"
      ]
    },
    {
      "cell_type": "code",
      "execution_count": null,
      "metadata": {
        "id": "EM7C2Ouc9IGr"
      },
      "outputs": [],
      "source": [
        "p.shape"
      ]
    },
    {
      "cell_type": "code",
      "execution_count": null,
      "metadata": {
        "id": "EauaYXVpOsN2"
      },
      "outputs": [],
      "source": [
        "ta = np.array(train_accuracy_list)\n",
        "va = np.array(val_accuracy_list)\n",
        "\n",
        "np.savetxt(conf, \"/content/gdrive/MyDrive/conf.txt\")\n",
        "np.savetxt(ta, \"/content/gdrive/MyDrive/ta.txt\")\n",
        "np.savetxt(va, \"/content/gdrive/MyDrive/va.txt\")"
      ]
    },
    {
      "cell_type": "code",
      "execution_count": null,
      "metadata": {
        "id": "7g3BLITRmdCH"
      },
      "outputs": [],
      "source": [
        "feats.shape\n",
        "\n",
        "new_feats ="
      ]
    },
    {
      "cell_type": "code",
      "execution_count": null,
      "metadata": {
        "id": "RzlrCJ4oBJR8"
      },
      "outputs": [],
      "source": [
        "11*31, 173*11"
      ]
    },
    {
      "cell_type": "code",
      "execution_count": null,
      "metadata": {
        "id": "ifMXlpjTJT8_"
      },
      "outputs": [],
      "source": [
        "color_dict = {\n",
        "    0 : [0,125,0],\n",
        "    1 :[0,109,140],\n",
        "    2 : [0,198,0],\n",
        "    3 : [0,78,0],\n",
        "    4 : [93,43,0],\n",
        "    5 : [0,2,156],\n",
        "    6 : [255,255,255],\n",
        "    7 : [255,237,0],\n",
        "    8 : [160,160,160],\n",
        "    9 : [143,0,0],\n",
        "    10 : [144,0,118],\n",
        "    11 : [255,204,200],\n",
        "    12 : [255,124,0],\n",
        "    13 : [224,0,180],\n",
        "    14 : [224,0,180],\n",
        "}"
      ]
    },
    {
      "cell_type": "code",
      "execution_count": null,
      "metadata": {
        "id": "9b98fPt2_Wyc"
      },
      "outputs": [],
      "source": [
        "from tqdm import tqdm\n",
        "\n",
        "feats_map = np.zeros((341, 1903, 3))\n",
        "b = 32\n",
        "for i in range(0, 341):\n",
        "  for j in tqdm(range(0, 1892)):\n",
        "    y = model(feats_norm[i:i+11, j:j+11, :].reshape(1,11,11,144))\n",
        "    c = np.argmax(y.numpy())\n",
        "    r,g,b = color_dict[c]\n",
        "    feats_map[i+5, j+5,0] = r\n",
        "    feats_map[i+5, j+5,1] = g\n",
        "    feats_map[i+5, j+5,2] = b\n",
        "\n",
        "# patch = feats[0:11, 0:11, 0:144].reshape(1,11,11,144)"
      ]
    },
    {
      "cell_type": "code",
      "execution_count": null,
      "metadata": {
        "id": "8kGgO5VSmv5-"
      },
      "outputs": [],
      "source": [
        "plt.imshow(feats_map)"
      ]
    },
    {
      "cell_type": "code",
      "execution_count": null,
      "metadata": {
        "id": "fr5Ui741IbC9"
      },
      "outputs": [],
      "source": [
        "plt.imshow(feats_norm[:,:,105])"
      ]
    },
    {
      "cell_type": "code",
      "execution_count": null,
      "metadata": {
        "id": "Yt6ZG8yhIqr5"
      },
      "outputs": [],
      "source": [
        "plt.imshow(feats[:,:,143])"
      ]
    },
    {
      "cell_type": "code",
      "execution_count": null,
      "metadata": {
        "id": "K_fhQrvzI5om"
      },
      "outputs": [],
      "source": [
        "np.max(feats_norm), np.max(feats)"
      ]
    },
    {
      "cell_type": "code",
      "execution_count": null,
      "metadata": {
        "id": "nt3DT2im_u5G"
      },
      "outputs": [],
      "source": [
        "y = model(patch)"
      ]
    },
    {
      "cell_type": "code",
      "execution_count": null,
      "metadata": {
        "id": "XPEjsAIF_6vy"
      },
      "outputs": [],
      "source": [
        "y"
      ]
    },
    {
      "cell_type": "code",
      "execution_count": null,
      "metadata": {
        "id": "jLkO0ZDa_-3q"
      },
      "outputs": [],
      "source": [
        "np.argmax(y.numpy())"
      ]
    },
    {
      "cell_type": "markdown",
      "metadata": {
        "id": "pkVvVGsqjP1t"
      },
      "source": [
        "### Inference of model"
      ]
    },
    {
      "cell_type": "code",
      "execution_count": null,
      "metadata": {
        "id": "ObyvaHQTjROy"
      },
      "outputs": [],
      "source": [
        "## Load Model here\n",
        "model = tf.keras.models.load_model('/content/cn_share_ms_ab16/model_temp')"
      ]
    },
    {
      "cell_type": "code",
      "execution_count": null,
      "metadata": {
        "id": "nQnHxtP2pw-z"
      },
      "outputs": [],
      "source": [
        "## Load Dataset here\n",
        "x = test_patches[:, :, :, :]\n",
        "\n",
        "## Predict model output here\n",
        "y = model(x)"
      ]
    },
    {
      "cell_type": "code",
      "execution_count": null,
      "metadata": {
        "id": "bZf_WY5Km8ZO"
      },
      "outputs": [],
      "source": [
        "## Shape of Output\n",
        "print(x.shape)\n",
        "print(y.shape)"
      ]
    },
    {
      "cell_type": "code",
      "execution_count": null,
      "metadata": {
        "id": "0i4FnIj4n8Ws"
      },
      "outputs": [],
      "source": [
        "## Labels separation\n",
        "y_labels = np.argmax(y, axis=1)\n",
        "y_labels.shape, test_labels.shape"
      ]
    },
    {
      "cell_type": "code",
      "execution_count": null,
      "metadata": {
        "id": "zwOutWmPs4b4"
      },
      "outputs": [],
      "source": [
        "pred_expanded = tf.expand_dims(y_labels, axis=1)\n",
        "truth_expanded = tf.expand_dims(test_labels, axis=1)"
      ]
    },
    {
      "cell_type": "code",
      "execution_count": null,
      "metadata": {
        "id": "6eO2v9XJoZh3"
      },
      "outputs": [],
      "source": [
        "pred = tf.repeat(pred_expanded, 11*11, axis=1)\n",
        "truth = tf.repeat(truth_expanded, 11*11, axis=1)"
      ]
    },
    {
      "cell_type": "code",
      "execution_count": null,
      "metadata": {
        "id": "ZPnDTDONogXr"
      },
      "outputs": [],
      "source": [
        "pred = tf.reshape(pred, (-1, 11, 11))\n",
        "truth = tf.reshape(truth, (-1, 11, 11))"
      ]
    },
    {
      "cell_type": "code",
      "execution_count": null,
      "metadata": {
        "id": "BrobXQjIMBrt"
      },
      "outputs": [],
      "source": [
        "!pip install patchify"
      ]
    },
    {
      "cell_type": "code",
      "execution_count": null,
      "metadata": {
        "id": "Pc01c28MMlSg"
      },
      "outputs": [],
      "source": []
    },
    {
      "cell_type": "code",
      "execution_count": null,
      "metadata": {
        "id": "JX4m0q0LMXAv"
      },
      "outputs": [],
      "source": [
        "from patchify import unpatchify\n",
        "\n",
        "seg_mask = unpatchify(pred, )"
      ]
    },
    {
      "cell_type": "code",
      "execution_count": null,
      "metadata": {
        "id": "cn31O7U0uZwD"
      },
      "outputs": [],
      "source": [
        "data = sio.loadmat('/content/gdrive/MyDrive/H13share.mat')"
      ]
    },
    {
      "cell_type": "markdown",
      "metadata": {
        "id": "IffeCYnY6luE"
      },
      "source": [
        "### Plot Image"
      ]
    },
    {
      "cell_type": "code",
      "execution_count": null,
      "metadata": {
        "id": "n3SIQTC86ncb"
      },
      "outputs": [],
      "source": [
        "(data['hsi'].shape[0] + 9)/11, (data['hsi'].shape[1] + 10)/11"
      ]
    },
    {
      "cell_type": "code",
      "execution_count": null,
      "metadata": {
        "id": "3P0MUIvJ6pog"
      },
      "outputs": [],
      "source": [
        "import matplotlib.pyplot as plt\n",
        "\n",
        "channel = data['hsi'][:,:,110]\n",
        "\n",
        "plt.imshow(channel, cmap=\"gray\")\n",
        "plt.axis(\"off\")"
      ]
    },
    {
      "cell_type": "code",
      "execution_count": null,
      "metadata": {
        "id": "Bn_mCSNe6z5J"
      },
      "outputs": [],
      "source": []
    }
  ],
  "metadata": {
    "accelerator": "GPU",
    "colab": {
      "provenance": [],
      "gpuType": "T4",
      "include_colab_link": true
    },
    "kernelspec": {
      "display_name": "Python 3",
      "name": "python3"
    }
  },
  "nbformat": 4,
  "nbformat_minor": 0
}